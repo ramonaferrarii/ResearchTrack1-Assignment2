{
 "cells": [
  {
   "cell_type": "markdown",
   "id": "4144f7e3",
   "metadata": {},
   "source": [
    "## Create jupyter notebook to replace the user interface (the node \"A\")"
   ]
  },
  {
   "cell_type": "markdown",
   "id": "5b21b599",
   "metadata": {},
   "source": [
    "## Try to using widgets to let the user know the position of the robot and all targets that have been set and cancelled in the enviroment."
   ]
  },
  {
   "cell_type": "code",
   "execution_count": 1,
   "id": "af65ef67",
   "metadata": {},
   "outputs": [
    {
     "data": {
      "application/vnd.jupyter.widget-view+json": {
       "model_id": "786beaf8fdff45979ca95d11fb89ea62",
       "version_major": 2,
       "version_minor": 0
      },
      "text/plain": [
       "VBox(children=(HTML(value='<h4>Please, provide the coordinates:</h4>'), HBox(children=(BoundedIntText(value=0)…"
      ]
     },
     "metadata": {},
     "output_type": "display_data"
    },
    {
     "name": "stdout",
     "output_type": "stream",
     "text": [
      "Goal has been cancelled!\n"
     ]
    }
   ],
   "source": [
    "import rospy\n",
    "import actionlib\n",
    "import assignment_2_2023.msg\n",
    "from std_srvs.srv import *\n",
    "from nav_msgs.msg import Odometry\n",
    "from geometry_msgs.msg import Point, Pose, Twist\n",
    "from assignment_2_2023.msg import msg_struct\n",
    "from ipywidgets import widgets\n",
    "from IPython.display import display\n",
    "\n",
    "# These variables are required to be globally defined\n",
    "finished = False  # Initialize finished variable globally\n",
    "client = None  # Initialize client globally\n",
    "goals = []  # List to store goal positions\n",
    "cancelled_goals = []  # List to store cancelled goal positions\n",
    "\n",
    "def publish_msg(msg):\n",
    "    global publisher\n",
    "    position = msg.pose.pose.position\n",
    "    velocity = msg.twist.twist.linear\n",
    "    new_msg = msg_struct()\n",
    "    new_msg.x = position.x\n",
    "    new_msg.y = position.y\n",
    "    new_msg.vel_x = velocity.x\n",
    "    new_msg.vel_y = velocity.y\n",
    "    publisher.publish(new_msg)\n",
    "\n",
    "def feedback_callback(feedback):\n",
    "    global finished\n",
    "    if feedback.stat == \"Target reached!\":\n",
    "        finished = True\n",
    "        print(\"Target reached!\")\n",
    "        update_goal_info()\n",
    "\n",
    "def cancel_goal(button):\n",
    "    global finished, client, cancelled_goals\n",
    "    if client and not finished:  # Check if client is not None\n",
    "        if goals:  # Check if there are goals to cancel\n",
    "            cancelled_goal = goals.pop()\n",
    "            cancelled_goals.append(cancelled_goal)\n",
    "            print(\"Goal has been cancelled!\")\n",
    "        else:\n",
    "            print(\"No goals to cancel!\")\n",
    "\n",
    "        client.cancel_goal()\n",
    "        finished = True\n",
    "        update_cancelled_goal_info()\n",
    "\n",
    "def start_client(button, x_input, y_input):\n",
    "    global finished, client, goals\n",
    "    client = actionlib.SimpleActionClient('/reaching_goal', assignment_2_2023.msg.PlanningAction)\n",
    "    client.wait_for_server()\n",
    "\n",
    "    x = x_input.value\n",
    "    y = y_input.value\n",
    "    \n",
    "    goal = assignment_2_2023.msg.PlanningGoal()\n",
    "    goal.target_pose.pose.position.x = x\n",
    "    goal.target_pose.pose.position.y = y\n",
    "\n",
    "    finished = False\n",
    "    client.send_goal(goal, None, None, feedback_callback)\n",
    "    \n",
    "    # Add the goal position to the list\n",
    "    goals.append((x, y))\n",
    "    update_goal_info()\n",
    "\n",
    "def on_execute_button_clicked(button, x_input, y_input):\n",
    "    start_client(button, x_input, y_input)\n",
    "\n",
    "def update_goal_info():\n",
    "    global goals, goal_info\n",
    "    goal_info.value = \"\"\n",
    "    for i, goal in enumerate(goals, start=1):\n",
    "        goal_info.value += f\"Goal {i}: ({goal[0]}, {goal[1]})\\n\"\n",
    "\n",
    "def update_cancelled_goal_info():\n",
    "    global cancelled_goals, cancelled_goal_info\n",
    "    cancelled_goal_info.value = \"\"\n",
    "    for i, goal in enumerate(cancelled_goals, start=1):\n",
    "        cancelled_goal_info.value += f\"Goal {i}: ({goal[0]}, {goal[1]})\\n\"\n",
    "\n",
    "def main():\n",
    "    global publisher, goal_info, cancelled_goal_info\n",
    "    rospy.init_node('action_client')\n",
    "    publisher = rospy.Publisher(\"/position_velocity\", msg_struct, queue_size=1)\n",
    "    rospy.Subscriber(\"/odom\", Odometry, publish_msg)\n",
    "    \n",
    "    instruction_text1 = widgets.HTML(value=\"<h4>Please, provide the coordinates:</h4>\")\n",
    "\n",
    "    x_input = widgets.BoundedIntText(value=0, min=0, max=100, bar_style='info')\n",
    "    y_input = widgets.BoundedIntText(value=0, min=0, max=100, bar_style='info')\n",
    "    \n",
    "    execute_button = widgets.Button(value=False, \n",
    "                                    description=\"Set Goal\", \n",
    "                                    disabled=False, \n",
    "                                    button_style='info',\n",
    "                                    icon='play')\n",
    "    execute_button.on_click(lambda b: on_execute_button_clicked(b, x_input, y_input))\n",
    "    \n",
    "    instruction_text2 = widgets.HTML(value=\"<h4>Press the button if you want to cancel the goal: </h4>\")\n",
    "\n",
    "    cancel_button = widgets.Button(value=False, \n",
    "                                   description=\"Cancel Goal\",\n",
    "                                   disabled=False,\n",
    "                                   button_style='danger',\n",
    "                                   icon='times')\n",
    "    cancel_button.on_click(cancel_goal)\n",
    "    \n",
    "    goal_info = widgets.Textarea(\n",
    "        value=\"\",\n",
    "        description=\"Setted:\",\n",
    "        disabled=True,\n",
    "        \n",
    "    )\n",
    "    \n",
    "    cancelled_goal_info = widgets.Textarea(\n",
    "        value=\"\",\n",
    "        description=\"Cancelled:\",\n",
    "        disabled=True\n",
    "    )\n",
    "\n",
    "    display(widgets.VBox([instruction_text1, widgets.HBox([x_input, y_input]), execute_button, \n",
    "                          instruction_text2, cancel_button, goal_info, cancelled_goal_info]))\n",
    "\n",
    "if __name__ == \"__main__\":\n",
    "    main()\n"
   ]
  }
 ],
 "metadata": {
  "kernelspec": {
   "display_name": "Python 3 (ipykernel)",
   "language": "python",
   "name": "python3"
  },
  "language_info": {
   "codemirror_mode": {
    "name": "ipython",
    "version": 3
   },
   "file_extension": ".py",
   "mimetype": "text/x-python",
   "name": "python",
   "nbconvert_exporter": "python",
   "pygments_lexer": "ipython3",
   "version": "3.8.5"
  }
 },
 "nbformat": 4,
 "nbformat_minor": 5
}
